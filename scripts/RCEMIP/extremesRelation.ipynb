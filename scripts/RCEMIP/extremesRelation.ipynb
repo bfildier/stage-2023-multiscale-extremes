{
 "cells": [
  {
   "cell_type": "code",
   "execution_count": 1,
   "metadata": {},
   "outputs": [],
   "source": [
    "import sys\n",
    "import os\n",
    "sys.path.insert(0, os.getcwd()+'/src/')\n",
    "sys.path.insert(0, '/home/mcarenso/code/stage-2023-multiscale-extremes/scripts/src/')\n",
    "from myImports import *\n",
    "%matplotlib inline\n",
    "%load_ext autoreload"
   ]
  },
  {
   "cell_type": "code",
   "execution_count": 2,
   "metadata": {},
   "outputs": [],
   "source": [
    "## Which cacatoes data ? SAM 300K 2D\n",
    "cacatoes_dir_path = \"/homedata/fiolleau/RCE/CACATOES/\"\n",
    "sam_dir_path = \"/bdd/MT_WORKSPACE/REMY/RCEMIP/SAM/300K/\""
   ]
  },
  {
   "cell_type": "code",
   "execution_count": 3,
   "metadata": {},
   "outputs": [],
   "source": [
    "n_days = 20 # number of days to extract "
   ]
  },
  {
   "attachments": {},
   "cell_type": "markdown",
   "metadata": {},
   "source": [
    "## SAM : Mean"
   ]
  },
  {
   "cell_type": "code",
   "execution_count": 4,
   "metadata": {},
   "outputs": [],
   "source": [
    "ds_SAM_Prec_mean = xr.open_dataset(f\"/homedata/mcarenso/outputs/rcemip_prec_1°x1day_remeshed_by_mean_with_300K_for_{n_days}days.nc\")[\"Prec\"].to_numpy()"
   ]
  },
  {
   "cell_type": "code",
   "execution_count": 5,
   "metadata": {},
   "outputs": [
    {
     "name": "stderr",
     "output_type": "stream",
     "text": [
      "/home/mcarenso/.conda/envs/PyLMD/lib/python3.8/site-packages/numpy/lib/histograms.py:905: RuntimeWarning: invalid value encountered in true_divide\n",
      "  return n/db/n.sum(), bin_edges\n"
     ]
    }
   ],
   "source": [
    "#Compute Distribution for ds_SAM_Prec_mean.\n",
    "ds_SAM_Prec_mean_shape = (64, 4, n_days)\n",
    "#ds_SAM_Prec_mean = ds_SAM_Prec_mean.reshape(-1)\n",
    "dist_SAM_Prec_mean = cs.Distribution(name=\"SAM Precipitation\", bintype = \"invlogQ\", nd = 4, fill_last_decade=True)\n",
    "dist_SAM_Prec_mean.computeDistribution(sample = ds_SAM_Prec_mean)\n",
    "dist_SAM_Prec_mean.storeSamplePoints(sample = ds_SAM_Prec_mean)"
   ]
  },
  {
   "attachments": {},
   "cell_type": "markdown",
   "metadata": {},
   "source": [
    "# SAM : max"
   ]
  },
  {
   "cell_type": "code",
   "execution_count": 6,
   "metadata": {},
   "outputs": [],
   "source": [
    "ds_SAM_Prec_max = xr.open_dataset(f\"/homedata/mcarenso/outputs/rcemip_prec_1°x1day_remeshed_by_max_with_300K_for_{n_days}days.nc\")[\"Prec\"].to_numpy()"
   ]
  },
  {
   "cell_type": "code",
   "execution_count": 7,
   "metadata": {},
   "outputs": [],
   "source": [
    "#Compute Distribution for dsSAM_Prec_max\n",
    "\n",
    "#ds_SAM_Prec_max = ds_SAM_Prec_max.flatten()\n",
    "dist_SAM_Prec_max = cs.Distribution(name=\"SAM Precipitation\", bintype = \"invlogQ\", nd = 4, fill_last_decade=True)\n",
    "dist_SAM_Prec_max.computeDistribution(sample = ds_SAM_Prec_max)\n",
    "dist_SAM_Prec_max.storeSamplePoints(sample = ds_SAM_Prec_max)"
   ]
  },
  {
   "attachments": {},
   "cell_type": "markdown",
   "metadata": {},
   "source": [
    "## Spatial location \n",
    "\n"
   ]
  },
  {
   "cell_type": "code",
   "execution_count": 8,
   "metadata": {},
   "outputs": [
    {
     "data": {
      "text/plain": [
       "array([[[0.0000000e+00, 0.0000000e+00, 0.0000000e+00, ...,\n",
       "         1.1421317e+01, 0.0000000e+00, 0.0000000e+00],\n",
       "        [0.0000000e+00, 0.0000000e+00, 0.0000000e+00, ...,\n",
       "         2.4973488e+00, 0.0000000e+00, 0.0000000e+00],\n",
       "        [0.0000000e+00, 0.0000000e+00, 1.3979111e+01, ...,\n",
       "         7.5224464e+01, 1.0001686e+00, 0.0000000e+00],\n",
       "        [0.0000000e+00, 0.0000000e+00, 0.0000000e+00, ...,\n",
       "         1.2586770e+00, 0.0000000e+00, 0.0000000e+00]],\n",
       "\n",
       "       [[0.0000000e+00, 0.0000000e+00, 1.3958668e+00, ...,\n",
       "         0.0000000e+00, 0.0000000e+00, 0.0000000e+00],\n",
       "        [0.0000000e+00, 0.0000000e+00, 4.9135756e-01, ...,\n",
       "         0.0000000e+00, 0.0000000e+00, 0.0000000e+00],\n",
       "        [0.0000000e+00, 1.1516409e+00, 7.8312197e+00, ...,\n",
       "         0.0000000e+00, 0.0000000e+00, 0.0000000e+00],\n",
       "        [0.0000000e+00, 5.3104166e-02, 5.1483345e+00, ...,\n",
       "         0.0000000e+00, 0.0000000e+00, 0.0000000e+00]],\n",
       "\n",
       "       [[0.0000000e+00, 0.0000000e+00, 0.0000000e+00, ...,\n",
       "         7.6931503e+01, 1.2224387e+01, 0.0000000e+00],\n",
       "        [0.0000000e+00, 0.0000000e+00, 0.0000000e+00, ...,\n",
       "         3.7656502e+01, 5.9775835e-01, 0.0000000e+00],\n",
       "        [0.0000000e+00, 0.0000000e+00, 0.0000000e+00, ...,\n",
       "         1.5572467e-01, 0.0000000e+00, 0.0000000e+00],\n",
       "        [0.0000000e+00, 0.0000000e+00, 0.0000000e+00, ...,\n",
       "         5.1860241e+01, 6.3326530e-02, 0.0000000e+00]],\n",
       "\n",
       "       ...,\n",
       "\n",
       "       [[2.0839492e+03, 3.2165115e+03, 3.1922236e+03, ...,\n",
       "         2.3026025e+03, 1.8498561e+03, 2.3504695e+03],\n",
       "        [1.1857566e+03, 3.9040132e+03, 2.8501294e+03, ...,\n",
       "         3.8086421e+03, 3.2494199e+03, 1.7209500e+03],\n",
       "        [1.8494733e+02, 3.4922344e+03, 3.1065320e+03, ...,\n",
       "         2.4159226e+03, 3.1200583e+03, 3.6736145e+02],\n",
       "        [1.1048036e+03, 2.4333853e+03, 2.9991362e+03, ...,\n",
       "         2.5221355e+03, 3.2672502e+03, 1.6734447e+03]],\n",
       "\n",
       "       [[6.4823151e+02, 1.6275702e+03, 5.3363956e+01, ...,\n",
       "         3.0447552e+02, 6.9153003e+02, 2.7780862e+02],\n",
       "        [1.3476958e+03, 8.5647925e+02, 1.8577982e+02, ...,\n",
       "         2.9320483e+02, 2.0111574e+02, 2.8432748e+02],\n",
       "        [1.7262918e+02, 3.3392758e+02, 1.2063138e+03, ...,\n",
       "         5.3529248e+02, 3.4032617e+02, 9.8410864e+02],\n",
       "        [2.8070572e+02, 4.4583243e+02, 1.2839999e+02, ...,\n",
       "         3.2982141e+02, 3.6871127e+02, 4.3541559e+02]],\n",
       "\n",
       "       [[2.4110227e+03, 1.2955920e+03, 7.1964935e+02, ...,\n",
       "         2.7377070e+03, 3.0111191e+03, 3.5072129e+03],\n",
       "        [2.0820103e+03, 2.9802517e+03, 2.4219470e+03, ...,\n",
       "         1.7247769e+03, 1.0142332e+03, 2.4551086e+03],\n",
       "        [1.3401964e+03, 9.1826245e+02, 2.1711922e+02, ...,\n",
       "         2.0426522e+03, 2.0304817e+03, 3.3404480e+03],\n",
       "        [3.0128940e+03, 2.1060149e+02, 3.1693588e+02, ...,\n",
       "         2.5225176e+03, 2.7829067e+03, 2.8072805e+03]]], dtype=float32)"
      ]
     },
     "execution_count": 8,
     "metadata": {},
     "output_type": "execute_result"
    }
   ],
   "source": [
    "ds_SAM_Prec_max"
   ]
  },
  {
   "attachments": {},
   "cell_type": "markdown",
   "metadata": {},
   "source": [
    "# SAM : Mean vs Max"
   ]
  },
  {
   "cell_type": "code",
   "execution_count": 9,
   "metadata": {},
   "outputs": [],
   "source": [
    "# fig,axs = plt.subplots(ncols=2,figsize=(10,4))\n",
    "\n",
    "# # distribution on log-log\n",
    "# ax = axs[0]\n",
    "# ax.plot(dist_SAM_Prec_Mean.percentiles,dist_SAM_Prec_Mean.density,'k',label='no noise')\n",
    "# ax.plot(dist_SAM_Prec_max.percentiles,dist_SAM_Prec_max.density,'k--',label='w/ noise')\n",
    "# ax.set_xscale('log')\n",
    "# ax.set_yscale('log')\n",
    "# ax.set_xlabel('lognormal, inverse logarithmic bins')\n",
    "# ax.set_ylabel('density')\n",
    "\n",
    "# # distribution on inverse logarithmic ranks\n",
    "# ax = axs[1]\n",
    "# _,h1 = subplotRanksILog(ax,dist_SAM_Prec_Mean.ranks,dist_SAM_Prec_Mean.percentiles,col='k',ltype='-',labels='SAM Mean Precip')\n",
    "# _,h2 = subplotRanksILog(ax,dist_SAM_Prec_max.ranks,dist_SAM_Prec_max.percentiles,col='k',ltype='--',labels='SAM Precip max',setframe=False) \n",
    "\n",
    "# ax.set_xlabel('Percentile ranks',labelpad=30)\n",
    "# ax.set_ylabel('Percentiles')\n",
    "\n",
    "# plt.legend(loc='upper left',handles=h1+h2)\n",
    "# plt.show()"
   ]
  },
  {
   "cell_type": "code",
   "execution_count": 10,
   "metadata": {},
   "outputs": [],
   "source": [
    "# Exploratory data\n",
    "FracPrec = xr.open_dataarray(\"/homedata/mcarenso/outputs/rcemip_prec_1°x1day_remeshed_by_fracPrec_with_300K_for_20days.nc\")\n",
    "VertSpeed = xr.open_dataarray(\"/homedata/mcarenso/outputs/rcemip_w_1°x1day_remeshed_by_mean_with_300K_for_20days.nc\")\n",
    "VertSpeed_by_MCS = xr.open_dataarray(\"/homedata/mcarenso/outputs/rcemip_w_1°x1day_remeshed_by_mean_with_300K_for_20days.nc\")\n"
   ]
  },
  {
   "cell_type": "code",
   "execution_count": 11,
   "metadata": {},
   "outputs": [
    {
     "name": "stderr",
     "output_type": "stream",
     "text": [
      "/home/mcarenso/code/conditional-stats/src/conditionalstats.py:1126: RuntimeWarning: Mean of empty slice\n",
      "  data_over_density[i1, i2] = np.nanmean(data[data_idx])\n"
     ]
    }
   ],
   "source": [
    "# Joint distribution\n",
    "jd_Mean_Max_IL = cs.JointDistribution(name='Mean vs Max',distribution1=dist_SAM_Prec_mean, distribution2=dist_SAM_Prec_max)\n",
    "FracPrec_densified = jd_Mean_Max_IL.computeNormalizedDensity(ds_SAM_Prec_mean, ds_SAM_Prec_max, data = FracPrec.values)\n",
    "VertSpeed_5km_densified = jd_Mean_Max_IL.computeNormalizedDensity(ds_SAM_Prec_mean, ds_SAM_Prec_max, data = VertSpeed.values)\n",
    "VertSpeed_by_MCS_5km_densified = jd_Mean_Max_IL.computeNormalizedDensity(ds_SAM_Prec_mean, ds_SAM_Prec_max, data = VertSpeed_by_MCS.values)"
   ]
  },
  {
   "cell_type": "code",
   "execution_count": 12,
   "metadata": {},
   "outputs": [
    {
     "data": {
      "image/png": "[encoded data removed]",
      "text/plain": [
       "<Figure size 600x450 with 4 Axes>"
      ]
     },
     "metadata": {},
     "output_type": "display_data"
    }
   ],
   "source": [
    "# Show joint distribution\n",
    "# frame IL\n",
    "fig,ax = plt.subplots(figsize=(6,4.5))\n",
    "ax_show = ax.twinx().twiny()\n",
    "ax = setFrameIL(ax, dist_SAM_Prec_mean.ranks, dist_SAM_Prec_max.ranks, xlabel = \"Mean Precip\", ylabel = \"Max Precip\") ## the given ax object must not be ax_show. \n",
    "\n",
    "# values\n",
    "Z = jd_Mean_Max_IL.density.T\n",
    "h = showJointHistogram(ax_show, Z, scale = 'log', cmap = 'hot_r') ## Here the given ax object must be ax_show. that's what it means \"regardless of preset frame and ticks\"\n",
    "\n",
    "plt.colorbar(h)\n",
    "plt.show()\n",
    "## TODO : add the imshow of Mean Precip and Max Precip over density"
   ]
  },
  {
   "cell_type": "code",
   "execution_count": 13,
   "metadata": {},
   "outputs": [
    {
     "data": {
      "image/png": "[encoded data removed]",
      "text/plain": [
       "<Figure size 600x450 with 4 Axes>"
      ]
     },
     "metadata": {},
     "output_type": "display_data"
    }
   ],
   "source": [
    "# Show joint distribution\n",
    "# frame IL\n",
    "fig,ax = plt.subplots(figsize=(6,4.5))\n",
    "ax_show = ax.twinx().twiny()\n",
    "ax = setFrameIL(ax, dist_SAM_Prec_mean.ranks, dist_SAM_Prec_max.ranks, xlabel = \"Ranks of  $D(P_{ac})$\", ylabel = \"Ranks of $D(P_{c})$\") ## the given ax object must not be ax_show. \n",
    "\n",
    "# values\n",
    "Z = FracPrec_densified.T\n",
    "h = showJointHistogram(ax_show, Z, scale = 'linear', cmap = 'hot') ## Here the given ax object must be ax_show. that's what it means \"regardless of preset frame and ticks\"\n",
    "\n",
    "plt.title(\"FracPrec avg\")\n",
    "plt.colorbar(h)\n",
    "plt.show()"
   ]
  },
  {
   "cell_type": "code",
   "execution_count": 15,
   "metadata": {},
   "outputs": [
    {
     "data": {
      "image/png": "[encoded data removed]",
      "text/plain": [
       "<Figure size 600x450 with 4 Axes>"
      ]
     },
     "metadata": {},
     "output_type": "display_data"
    }
   ],
   "source": [
    "# Show joint distribution\n",
    "# frame IL\n",
    "fig,ax = plt.subplots(figsize=(6,4.5))\n",
    "ax_show = ax.twinx().twiny()\n",
    "ax = setFrameIL(ax, dist_SAM_Prec_mean.ranks, dist_SAM_Prec_max.ranks, xlabel = \"Mean Precip\", ylabel = \"Max Precip\") ## the given ax object must not be ax_show. \n",
    "\n",
    "# values\n",
    "Z = VertSpeed_5km_densified.T\n",
    "h = showJointHistogram(ax_show, Z, scale = 'linear', vmin = -0.06, vmax = 0.1, cmap = 'hot_r') ## Here the given ax object must be ax_show. that's what it means \"regardless of preset frame and ticks\"\n",
    "\n",
    "plt.title(\"Mean Vertical Speed at 5km\")\n",
    "plt.colorbar(h)\n",
    "plt.show()"
   ]
  },
  {
   "cell_type": "code",
   "execution_count": 16,
   "metadata": {},
   "outputs": [
    {
     "data": {
      "image/png": "[encoded data removed]",
      "text/plain": [
       "<Figure size 600x450 with 4 Axes>"
      ]
     },
     "metadata": {},
     "output_type": "display_data"
    }
   ],
   "source": [
    "# Show joint distribution\n",
    "# frame IL\n",
    "fig,ax = plt.subplots(figsize=(6,4.5))\n",
    "ax_show = ax.twinx().twiny()\n",
    "ax = setFrameIL(ax, dist_SAM_Prec_mean.ranks, dist_SAM_Prec_max.ranks, xlabel = \"Mean Precip\", ylabel = \"Max Precip\") ## the given ax object must not be ax_show. \n",
    "\n",
    "# values\n",
    "Z = VertSpeed_by_MCS_5km_densified.T\n",
    "h = showJointHistogram(ax_show, Z, scale = 'linear', vmin = -0.06, vmax = 0.1, cmap = 'hot_r') ## Here the given ax object must be ax_show. that's what it means \"regardless of preset frame and ticks\"\n",
    "\n",
    "plt.title(\"Mean Vertical Speed at 5km\")\n",
    "plt.colorbar(h)\n",
    "plt.show()\n"
   ]
  },
  {
   "cell_type": "code",
   "execution_count": 18,
   "metadata": {},
   "outputs": [],
   "source": [
    "path = \"/homedata/mcarenso/outputs/rcemip_w_1°x1day_remeshed_by_max_by_MCS_with_300K_for_20days.nc\"\n",
    "MaxVertSpeed = xr.open_dataarray(path)\n",
    "MaxVertSpeed_5km_densified = jd_Mean_Max_IL.computeNormalizedDensity(ds_SAM_Prec_mean, ds_SAM_Prec_max, data = MaxVertSpeed.values)"
   ]
  },
  {
   "cell_type": "code",
   "execution_count": 19,
   "metadata": {},
   "outputs": [
    {
     "data": {
      "image/png": "[encoded data removed]",
      "text/plain": [
       "<Figure size 600x450 with 4 Axes>"
      ]
     },
     "metadata": {},
     "output_type": "display_data"
    }
   ],
   "source": [
    "# frame IL\n",
    "fig,ax = plt.subplots(figsize=(6,4.5))\n",
    "ax_show = ax.twinx().twiny()\n",
    "ax = setFrameIL(ax, dist_SAM_Prec_mean.ranks, dist_SAM_Prec_max.ranks, xlabel = \"Mean Precip\", ylabel = \"Max Precip\") ## the given ax object must not be ax_show. \n",
    "\n",
    "# values\n",
    "Z = MaxVertSpeed_5km_densified.T\n",
    "h = showJointHistogram(ax_show, Z, scale = 'linear', vmin = np.nanmin(Z), vmax = np.nanmax(Z), cmap = 'hot_r') ## Here the given ax object must be ax_show. that's what it means \"regardless of preset frame and ticks\"\n",
    "\n",
    "plt.title(\"Max Vertical Speed at 5km \")\n",
    "plt.colorbar(h)\n",
    "plt.show()"
   ]
  },
  {
   "cell_type": "code",
   "execution_count": 20,
   "metadata": {},
   "outputs": [],
   "source": [
    "path = \"/homedata/mcarenso/outputs/rcemip_prec_1°x1day_remeshed_by_growthRate_meanMean_with_300K_for_20days.nc\"\n",
    "GrowthRateMeanMean = xr.open_dataarray(path)\n",
    "GrowthRateMeanMean_densified = jd_Mean_Max_IL.computeNormalizedDensity(ds_SAM_Prec_mean, ds_SAM_Prec_max, data = GrowthRateMeanMean.values)"
   ]
  },
  {
   "cell_type": "code",
   "execution_count": 22,
   "metadata": {},
   "outputs": [
    {
     "data": {
      "image/png": "[encoded data removed]",
      "text/plain": [
       "<Figure size 600x450 with 4 Axes>"
      ]
     },
     "metadata": {},
     "output_type": "display_data"
    }
   ],
   "source": [
    "# frame IL\n",
    "fig,ax = plt.subplots(figsize=(6,4.5))\n",
    "ax_show = ax.twinx().twiny()\n",
    "ax = setFrameIL(ax, dist_SAM_Prec_mean.ranks, dist_SAM_Prec_max.ranks, xlabel = \"Mean Precip\", ylabel = \"Max Precip\") ## the given ax object must not be ax_show. \n",
    "\n",
    "# values\n",
    "Z = GrowthRateMeanMean_densified.T\n",
    "h = showJointHistogram(ax_show, Z, scale = 'linear', vmin = 9, vmax = 36, cmap = 'hot_r') ## Here the given ax object must be ax_show. that's what it means \"regardless of preset frame and ticks\"\n",
    "\n",
    "plt.title(\"Growth Rate of MCS Mean Mean\")\n",
    "plt.colorbar(h)\n",
    "plt.show()"
   ]
  },
  {
   "attachments": {},
   "cell_type": "markdown",
   "metadata": {},
   "source": [
    "# Plot Growth rate "
   ]
  },
  {
   "attachments": {},
   "cell_type": "markdown",
   "metadata": {},
   "source": [
    "### Retrieve MCS labels over x,y,t"
   ]
  },
  {
   "cell_type": "code",
   "execution_count": 23,
   "metadata": {},
   "outputs": [
    {
     "data": {
      "text/html": [
       "<div><svg style=\"position: absolute; width: 0; height: 0; overflow: hidden\">\n",
       "<defs>\n",
       "<symbol id=\"icon-database\" viewBox=\"0 0 32 32\">\n",
       "<path d=\"M16 0c-8.837 0-16 2.239-16 5v4c0 2.761 7.163 5 16 5s16-2.239 16-5v-4c0-2.761-7.163-5-16-5z\"></path>\n",
       "<path d=\"M16 17c-8.837 0-16-2.239-16-5v6c0 2.761 7.163 5 16 5s16-2.239 16-5v-6c0 2.761-7.163 5-16 5z\"></path>\n",
       "<path d=\"M16 26c-8.837 0-16-2.239-16-5v6c0 2.761 7.163 5 16 5s16-2.239 16-5v-6c0 2.761-7.163 5-16 5z\"></path>\n",
       "</symbol>\n",
       "<symbol id=\"icon-file-text2\" viewBox=\"0 0 32 32\">\n",
       "<path d=\"M28.681 7.159c-0.694-0.947-1.662-2.053-2.724-3.116s-2.169-2.030-3.116-2.724c-1.612-1.182-2.393-1.319-2.841-1.319h-15.5c-1.378 0-2.5 1.121-2.5 2.5v27c0 1.378 1.122 2.5 2.5 2.5h23c1.378 0 2.5-1.122 2.5-2.5v-19.5c0-0.448-0.137-1.23-1.319-2.841zM24.543 5.457c0.959 0.959 1.712 1.825 2.268 2.543h-4.811v-4.811c0.718 0.556 1.584 1.309 2.543 2.268zM28 29.5c0 0.271-0.229 0.5-0.5 0.5h-23c-0.271 0-0.5-0.229-0.5-0.5v-27c0-0.271 0.229-0.5 0.5-0.5 0 0 15.499-0 15.5 0v7c0 0.552 0.448 1 1 1h7v19.5z\"></path>\n",
       "<path d=\"M23 26h-14c-0.552 0-1-0.448-1-1s0.448-1 1-1h14c0.552 0 1 0.448 1 1s-0.448 1-1 1z\"></path>\n",
       "<path d=\"M23 22h-14c-0.552 0-1-0.448-1-1s0.448-1 1-1h14c0.552 0 1 0.448 1 1s-0.448 1-1 1z\"></path>\n",
       "<path d=\"M23 18h-14c-0.552 0-1-0.448-1-1s0.448-1 1-1h14c0.552 0 1 0.448 1 1s-0.448 1-1 1z\"></path>\n",
       "</symbol>\n",
       "</defs>\n",
       "</svg>\n",
       "<style>/* CSS stylesheet for displaying xarray objects in jupyterlab.\n",
       " *\n",
       " */\n",
       "\n",
       ":root {\n",
       "  --xr-font-color0: var(--jp-content-font-color0, rgba(0, 0, 0, 1));\n",
       "  --xr-font-color2: var(--jp-content-font-color2, rgba(0, 0, 0, 0.54));\n",
       "  --xr-font-color3: var(--jp-content-font-color3, rgba(0, 0, 0, 0.38));\n",
       "  --xr-border-color: var(--jp-border-color2, #e0e0e0);\n",
       "  --xr-disabled-color: var(--jp-layout-color3, #bdbdbd);\n",
       "  --xr-background-color: var(--jp-layout-color0, white);\n",
       "  --xr-background-color-row-even: var(--jp-layout-color1, white);\n",
       "  --xr-background-color-row-odd: var(--jp-layout-color2, #eeeeee);\n",
       "}\n",
       "\n",
       "html[theme=dark],\n",
       "body[data-theme=dark],\n",
       "body.vscode-dark {\n",
       "  --xr-font-color0: rgba(255, 255, 255, 1);\n",
       "  --xr-font-color2: rgba(255, 255, 255, 0.54);\n",
       "  --xr-font-color3: rgba(255, 255, 255, 0.38);\n",
       "  --xr-border-color: #1F1F1F;\n",
       "  --xr-disabled-color: #515151;\n",
       "  --xr-background-color: #111111;\n",
       "  --xr-background-color-row-even: #111111;\n",
       "  --xr-background-color-row-odd: #313131;\n",
       "}\n",
       "\n",
       ".xr-wrap {\n",
       "  display: block !important;\n",
       "  min-width: 300px;\n",
       "  max-width: 700px;\n",
       "}\n",
       "\n",
       ".xr-text-repr-fallback {\n",
       "  /* fallback to plain text repr when CSS is not injected (untrusted notebook) */\n",
       "  display: none;\n",
       "}\n",
       "\n",
       ".xr-header {\n",
       "  padding-top: 6px;\n",
       "  padding-bottom: 6px;\n",
       "  margin-bottom: 4px;\n",
       "  border-bottom: solid 1px var(--xr-border-color);\n",
       "}\n",
       "\n",
       ".xr-header > div,\n",
       ".xr-header > ul {\n",
       "  display: inline;\n",
       "  margin-top: 0;\n",
       "  margin-bottom: 0;\n",
       "}\n",
       "\n",
       ".xr-obj-type,\n",
       ".xr-array-name {\n",
       "  margin-left: 2px;\n",
       "  margin-right: 10px;\n",
       "}\n",
       "\n",
       ".xr-obj-type {\n",
       "  color: var(--xr-font-color2);\n",
       "}\n",
       "\n",
       ".xr-sections {\n",
       "  padding-left: 0 !important;\n",
       "  display: grid;\n",
       "  grid-template-columns: 150px auto auto 1fr 20px 20px;\n",
       "}\n",
       "\n",
       ".xr-section-item {\n",
       "  display: contents;\n",
       "}\n",
       "\n",
       ".xr-section-item input {\n",
       "  display: none;\n",
       "}\n",
       "\n",
       ".xr-section-item input + label {\n",
       "  color: var(--xr-disabled-color);\n",
       "}\n",
       "\n",
       ".xr-section-item input:enabled + label {\n",
       "  cursor: pointer;\n",
       "  color: var(--xr-font-color2);\n",
       "}\n",
       "\n",
       ".xr-section-item input:enabled + label:hover {\n",
       "  color: var(--xr-font-color0);\n",
       "}\n",
       "\n",
       ".xr-section-summary {\n",
       "  grid-column: 1;\n",
       "  color: var(--xr-font-color2);\n",
       "  font-weight: 500;\n",
       "}\n",
       "\n",
       ".xr-section-summary > span {\n",
       "  display: inline-block;\n",
       "  padding-left: 0.5em;\n",
       "}\n",
       "\n",
       ".xr-section-summary-in:disabled + label {\n",
       "  color: var(--xr-font-color2);\n",
       "}\n",
       "\n",
       ".xr-section-summary-in + label:before {\n",
       "  display: inline-block;\n",
       "  content: '►';\n",
       "  font-size: 11px;\n",
       "  width: 15px;\n",
       "  text-align: center;\n",
       "}\n",
       "\n",
       ".xr-section-summary-in:disabled + label:before {\n",
       "  color: var(--xr-disabled-color);\n",
       "}\n",
       "\n",
       ".xr-section-summary-in:checked + label:before {\n",
       "  content: '▼';\n",
       "}\n",
       "\n",
       ".xr-section-summary-in:checked + label > span {\n",
       "  display: none;\n",
       "}\n",
       "\n",
       ".xr-section-summary,\n",
       ".xr-section-inline-details {\n",
       "  padding-top: 4px;\n",
       "  padding-bottom: 4px;\n",
       "}\n",
       "\n",
       ".xr-section-inline-details {\n",
       "  grid-column: 2 / -1;\n",
       "}\n",
       "\n",
       ".xr-section-details {\n",
       "  display: none;\n",
       "  grid-column: 1 / -1;\n",
       "  margin-bottom: 5px;\n",
       "}\n",
       "\n",
       ".xr-section-summary-in:checked ~ .xr-section-details {\n",
       "  display: contents;\n",
       "}\n",
       "\n",
       ".xr-array-wrap {\n",
       "  grid-column: 1 / -1;\n",
       "  display: grid;\n",
       "  grid-template-columns: 20px auto;\n",
       "}\n",
       "\n",
       ".xr-array-wrap > label {\n",
       "  grid-column: 1;\n",
       "  vertical-align: top;\n",
       "}\n",
       "\n",
       ".xr-preview {\n",
       "  color: var(--xr-font-color3);\n",
       "}\n",
       "\n",
       ".xr-array-preview,\n",
       ".xr-array-data {\n",
       "  padding: 0 5px !important;\n",
       "  grid-column: 2;\n",
       "}\n",
       "\n",
       ".xr-array-data,\n",
       ".xr-array-in:checked ~ .xr-array-preview {\n",
       "  display: none;\n",
       "}\n",
       "\n",
       ".xr-array-in:checked ~ .xr-array-data,\n",
       ".xr-array-preview {\n",
       "  display: inline-block;\n",
       "}\n",
       "\n",
       ".xr-dim-list {\n",
       "  display: inline-block !important;\n",
       "  list-style: none;\n",
       "  padding: 0 !important;\n",
       "  margin: 0;\n",
       "}\n",
       "\n",
       ".xr-dim-list li {\n",
       "  display: inline-block;\n",
       "  padding: 0;\n",
       "  margin: 0;\n",
       "}\n",
       "\n",
       ".xr-dim-list:before {\n",
       "  content: '(';\n",
       "}\n",
       "\n",
       ".xr-dim-list:after {\n",
       "  content: ')';\n",
       "}\n",
       "\n",
       ".xr-dim-list li:not(:last-child):after {\n",
       "  content: ',';\n",
       "  padding-right: 5px;\n",
       "}\n",
       "\n",
       ".xr-has-index {\n",
       "  font-weight: bold;\n",
       "}\n",
       "\n",
       ".xr-var-list,\n",
       ".xr-var-item {\n",
       "  display: contents;\n",
       "}\n",
       "\n",
       ".xr-var-item > div,\n",
       ".xr-var-item label,\n",
       ".xr-var-item > .xr-var-name span {\n",
       "  background-color: var(--xr-background-color-row-even);\n",
       "  margin-bottom: 0;\n",
       "}\n",
       "\n",
       ".xr-var-item > .xr-var-name:hover span {\n",
       "  padding-right: 5px;\n",
       "}\n",
       "\n",
       ".xr-var-list > li:nth-child(odd) > div,\n",
       ".xr-var-list > li:nth-child(odd) > label,\n",
       ".xr-var-list > li:nth-child(odd) > .xr-var-name span {\n",
       "  background-color: var(--xr-background-color-row-odd);\n",
       "}\n",
       "\n",
       ".xr-var-name {\n",
       "  grid-column: 1;\n",
       "}\n",
       "\n",
       ".xr-var-dims {\n",
       "  grid-column: 2;\n",
       "}\n",
       "\n",
       ".xr-var-dtype {\n",
       "  grid-column: 3;\n",
       "  text-align: right;\n",
       "  color: var(--xr-font-color2);\n",
       "}\n",
       "\n",
       ".xr-var-preview {\n",
       "  grid-column: 4;\n",
       "}\n",
       "\n",
       ".xr-index-preview {\n",
       "  grid-column: 2 / 5;\n",
       "  color: var(--xr-font-color2);\n",
       "}\n",
       "\n",
       ".xr-var-name,\n",
       ".xr-var-dims,\n",
       ".xr-var-dtype,\n",
       ".xr-preview,\n",
       ".xr-attrs dt {\n",
       "  white-space: nowrap;\n",
       "  overflow: hidden;\n",
       "  text-overflow: ellipsis;\n",
       "  padding-right: 10px;\n",
       "}\n",
       "\n",
       ".xr-var-name:hover,\n",
       ".xr-var-dims:hover,\n",
       ".xr-var-dtype:hover,\n",
       ".xr-attrs dt:hover {\n",
       "  overflow: visible;\n",
       "  width: auto;\n",
       "  z-index: 1;\n",
       "}\n",
       "\n",
       ".xr-var-attrs,\n",
       ".xr-var-data,\n",
       ".xr-index-data {\n",
       "  display: none;\n",
       "  background-color: var(--xr-background-color) !important;\n",
       "  padding-bottom: 5px !important;\n",
       "}\n",
       "\n",
       ".xr-var-attrs-in:checked ~ .xr-var-attrs,\n",
       ".xr-var-data-in:checked ~ .xr-var-data,\n",
       ".xr-index-data-in:checked ~ .xr-index-data {\n",
       "  display: block;\n",
       "}\n",
       "\n",
       ".xr-var-data > table {\n",
       "  float: right;\n",
       "}\n",
       "\n",
       ".xr-var-name span,\n",
       ".xr-var-data,\n",
       ".xr-index-name div,\n",
       ".xr-index-data,\n",
       ".xr-attrs {\n",
       "  padding-left: 25px !important;\n",
       "}\n",
       "\n",
       ".xr-attrs,\n",
       ".xr-var-attrs,\n",
       ".xr-var-data,\n",
       ".xr-index-data {\n",
       "  grid-column: 1 / -1;\n",
       "}\n",
       "\n",
       "dl.xr-attrs {\n",
       "  padding: 0;\n",
       "  margin: 0;\n",
       "  display: grid;\n",
       "  grid-template-columns: 125px auto;\n",
       "}\n",
       "\n",
       ".xr-attrs dt,\n",
       ".xr-attrs dd {\n",
       "  padding: 0;\n",
       "  margin: 0;\n",
       "  float: left;\n",
       "  padding-right: 10px;\n",
       "  width: auto;\n",
       "}\n",
       "\n",
       ".xr-attrs dt {\n",
       "  font-weight: normal;\n",
       "  grid-column: 1;\n",
       "}\n",
       "\n",
       ".xr-attrs dt:hover span {\n",
       "  display: inline-block;\n",
       "  background: var(--xr-background-color);\n",
       "  padding-right: 10px;\n",
       "}\n",
       "\n",
       ".xr-attrs dd {\n",
       "  grid-column: 2;\n",
       "  white-space: pre-wrap;\n",
       "  word-break: break-all;\n",
       "}\n",
       "\n",
       ".xr-icon-database,\n",
       ".xr-icon-file-text2,\n",
       ".xr-no-icon {\n",
       "  display: inline-block;\n",
       "  vertical-align: middle;\n",
       "  width: 1em;\n",
       "  height: 1.5em !important;\n",
       "  stroke-width: 0;\n",
       "  stroke: currentColor;\n",
       "  fill: currentColor;\n",
       "}\n",
       "</style><pre class='xr-text-repr-fallback'>&lt;xarray.DataArray &#x27;MCS_label&#x27; (time: 960, latitude: 128, longitude: 2048)&gt;\n",
       "[251658240 values with dtype=float64]\n",
       "Dimensions without coordinates: time, latitude, longitude\n",
       "Attributes:\n",
       "    units:           \n",
       "    standard_name:  MCS_label\n",
       "    long_name:      MCS labellisation</pre><div class='xr-wrap' style='display:none'><div class='xr-header'><div class='xr-obj-type'>xarray.DataArray</div><div class='xr-array-name'>'MCS_label'</div><ul class='xr-dim-list'><li><span>time</span>: 960</li><li><span>latitude</span>: 128</li><li><span>longitude</span>: 2048</li></ul></div><ul class='xr-sections'><li class='xr-section-item'><div class='xr-array-wrap'><input id='section-02776c96-8ffa-45a3-9042-0baef97c8a73' class='xr-array-in' type='checkbox' checked><label for='section-02776c96-8ffa-45a3-9042-0baef97c8a73' title='Show/hide data repr'><svg class='icon xr-icon-database'><use xlink:href='#icon-database'></use></svg></label><div class='xr-array-preview xr-preview'><span>...</span></div><div class='xr-array-data'><pre>[251658240 values with dtype=float64]</pre></div></div></li><li class='xr-section-item'><input id='section-3f9e8847-e681-464b-9d9d-afdeff292eef' class='xr-section-summary-in' type='checkbox' disabled ><label for='section-3f9e8847-e681-464b-9d9d-afdeff292eef' class='xr-section-summary'  title='Expand/collapse section'>Coordinates: <span>(0)</span></label><div class='xr-section-inline-details'></div><div class='xr-section-details'><ul class='xr-var-list'></ul></div></li><li class='xr-section-item'><input id='section-1a22f27a-7d44-43b2-a938-a646a825067d' class='xr-section-summary-in' type='checkbox' disabled ><label for='section-1a22f27a-7d44-43b2-a938-a646a825067d' class='xr-section-summary'  title='Expand/collapse section'>Indexes: <span>(0)</span></label><div class='xr-section-inline-details'></div><div class='xr-section-details'><ul class='xr-var-list'></ul></div></li><li class='xr-section-item'><input id='section-a5b67f06-ede1-40f8-a7e4-85910dbe75fb' class='xr-section-summary-in' type='checkbox'  checked><label for='section-a5b67f06-ede1-40f8-a7e4-85910dbe75fb' class='xr-section-summary' >Attributes: <span>(3)</span></label><div class='xr-section-inline-details'></div><div class='xr-section-details'><dl class='xr-attrs'><dt><span>units :</span></dt><dd> </dd><dt><span>standard_name :</span></dt><dd>MCS_label</dd><dt><span>long_name :</span></dt><dd>MCS labellisation</dd></dl></div></li></ul></div></div>"
      ],
      "text/plain": [
       "<xarray.DataArray 'MCS_label' (time: 960, latitude: 128, longitude: 2048)>\n",
       "[251658240 values with dtype=float64]\n",
       "Dimensions without coordinates: time, latitude, longitude\n",
       "Attributes:\n",
       "    units:           \n",
       "    standard_name:  MCS_label\n",
       "    long_name:      MCS labellisation"
      ]
     },
     "execution_count": 23,
     "metadata": {},
     "output_type": "execute_result"
    }
   ],
   "source": [
    "stringSST=\"300\"\n",
    "#TOOCAN segmentation masks (les labels des objets MCS, dans la grille originale x,y,t)\n",
    "file_seg='/bdd/MT_WORKSPACE/MCS/RCE/SAM/TOOCAN/TOOCAN_v2022_04/irtb/TOOCAN_2.07_SAM_RCE_large'+stringSST+'_2D_irtb.nc'\n",
    "\n",
    "MCS_labels = xr.open_dataarray(file_seg)\n",
    "MCS_labels = MCS_labels.isel(time=slice(48*n_days))\n",
    "MCS_labels"
   ]
  },
  {
   "attachments": {},
   "cell_type": "markdown",
   "metadata": {},
   "source": [
    "### Retrieve the tracking file to get all infoabout MCS per label"
   ]
  },
  {
   "cell_type": "code",
   "execution_count": 24,
   "metadata": {},
   "outputs": [],
   "source": [
    "ds_SAM_shape = (n_days, 4, 64)\n",
    "\n",
    "from myFuncs import calculate_first_derivative, classify_derivative\n",
    "def idx_by_label(labels):\n",
    "    idxs = [label_list.index(label) for label in labels]\n",
    "    return idxs\n",
    "\n",
    "file_tracking='/bdd/MT_WORKSPACE/MCS/RCE/SAM/TOOCAN/TOOCAN_v2022_04/irtb/FileTracking/TOOCAN-SAM_RCE_large'+stringSST+'_2D_irtb.dat.gz'\n",
    "\n",
    "from load_TOOCAN_DYAMOND_modif_BenAndMax import load_TOOCAN_DYAMOND\n",
    "MCS = load_TOOCAN_DYAMOND(file_tracking)\n",
    "label_list = [MCS[i].label for i in range(len(MCS))]"
   ]
  },
  {
   "attachments": {},
   "cell_type": "markdown",
   "metadata": {},
   "source": [
    "### Iterate over the bins of a distrib, get the labels of the bin, compute the growth through the MCS.clusters.surf235k"
   ]
  },
  {
   "cell_type": "code",
   "execution_count": 25,
   "metadata": {},
   "outputs": [
    {
     "name": "stderr",
     "output_type": "stream",
     "text": [
      "/home/mcarenso/.conda/envs/PyLMD/lib/python3.8/site-packages/numpy/core/fromnumeric.py:3419: RuntimeWarning: Mean of empty slice.\n",
      "  return _methods._mean(a, axis=axis, dtype=dtype,\n",
      "/home/mcarenso/.conda/envs/PyLMD/lib/python3.8/site-packages/numpy/core/_methods.py:188: RuntimeWarning: invalid value encountered in double_scalars\n",
      "  ret = ret.dtype.type(ret / rcount)\n"
     ]
    }
   ],
   "source": [
    "mean_growth = []\n",
    "max_growth = []\n",
    "\n",
    "for i,bin_loc in enumerate(dist_SAM_Prec_mean.bin_locations):\n",
    "    bin_mean_growth = []\n",
    "    bin_max_growth = []\n",
    "    ## Retrieve coord array of (x,y,t)s per bins. tuple form is usefull for subscritapility and array form is usefull for iterating over.\n",
    "    coord_subs = np.unravel_index(bin_loc, ds_SAM_shape) ## 3-uplet of 1D array that represents  time, y and x. access like idxs_subs[2][i] for the x value of the ith index\n",
    "    coord_read = np.vstack(coord_subs).T # np.array of coordinates np.array(time, y, x)\n",
    "\n",
    "    ## Get the labels of MCS for these (x,y,t)s, for now remove Nans and don't discriminate MCS that may occurs multiple time. \n",
    "    labels = MCS_labels.values[coord_subs]\n",
    "    labels_no_nan = [x for x in labels if not math.isnan(x)]\n",
    "    coord_no_nan = [idx for i, idx in enumerate(coord_read) if not math.isnan(labels[i])] ## coord correspond to (x,y,t), used as indexing for original dataset\n",
    "    MCSs = [MCS[idx] for idx in idx_by_label(labels_no_nan)]                              ## while this idx correspond to the indexing of MCS within the tracking file.\n",
    "    assert len(labels_no_nan)==len(MCSs) and len(MCSs)==len(coord_no_nan)\n",
    "    for i in range(len(MCSs)):\n",
    "        assert coord_no_nan[i][0] >= MCSs[i].TimeInit, \"MCS time should be superior to its Time Init\"\n",
    "        surf = np.array(MCSs[i].clusters.surf235k_km2)\n",
    "        dsurf = calculate_first_derivative(surf)\n",
    "        MClass, pos, neg = classify_derivative(dsurf)\n",
    "        if (MClass==2) or MClass == 1 :\n",
    "            bin_mean_growth.append(np.mean(dsurf[dsurf>0]))\n",
    "            bin_max_growth.append(np.max(dsurf[dsurf>0]))\n",
    "        elif MClass==2.1:\n",
    "            bin_mean_growth.append(mean_growth = np.mean(dsurf[pos[0]:neg[0]]))\n",
    "            bin_max_growth.append(np.max(dsurf[pos[0]:neg[0]]))\n",
    "    mean_growth.append(np.mean(mean_growth))\n",
    "    max_growth.append(np.mean(max_growth))"
   ]
  },
  {
   "cell_type": "code",
   "execution_count": null,
   "metadata": {},
   "outputs": [
    {
     "data": {
      "text/plain": [
       "array([[ 0,  0, 32],\n",
       "       [ 0,  2, 32],\n",
       "       [ 0,  3, 31],\n",
       "       [ 0,  3, 32],\n",
       "       [ 0,  3, 33],\n",
       "       [ 2,  0,  7],\n",
       "       [ 2,  0, 15],\n",
       "       [ 2,  1, 16],\n",
       "       [ 2,  3, 15],\n",
       "       [ 4,  3, 33],\n",
       "       [12,  3, 33]])"
      ]
     },
     "execution_count": 69,
     "metadata": {},
     "output_type": "execute_result"
    }
   ],
   "source": [
    "# Max_coords = np.vstack(np.where(ds_SAM_Prec_max.reshape(n_days, 4, 64)>dist_SAM_Prec_max.percentiles[-14])).T\n",
    "# Mean_coords = np.vstack(np.where(ds_SAM_Prec_mean.reshape(n_days, 4, 64)>dist_SAM_Prec_mean.percentiles[-14])).T\n",
    "# Mean_coords"
   ]
  },
  {
   "cell_type": "code",
   "execution_count": null,
   "metadata": {},
   "outputs": [
    {
     "name": "stdout",
     "output_type": "stream",
     "text": [
      "Goodbye world !\n"
     ]
    }
   ],
   "source": [
    "print(\"Goodbye world !\")"
   ]
  }
 ],
 "metadata": {
  "kernelspec": {
   "display_name": "PyLMD",
   "language": "python",
   "name": "pylmd"
  },
  "language_info": {
   "codemirror_mode": {
    "name": "ipython",
    "version": 3
   },
   "file_extension": ".py",
   "mimetype": "text/x-python",
   "name": "python",
   "nbconvert_exporter": "python",
   "pygments_lexer": "ipython3",
   "version": "3.8.13"
  },
  "orig_nbformat": 4
 },
 "nbformat": 4,
 "nbformat_minor": 2
}
