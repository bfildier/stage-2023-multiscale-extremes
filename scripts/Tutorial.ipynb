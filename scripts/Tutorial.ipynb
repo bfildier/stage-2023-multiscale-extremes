{
 "cells": [
  {
   "cell_type": "markdown",
   "id": "bed95410",
   "metadata": {},
   "source": [
    "    Here I compile some basics to:\n",
    "    - open the data \n",
    "    - visualize statistical distributions, rain extreme, and maps"
   ]
  },
  {
   "cell_type": "markdown",
   "id": "e0c37219",
   "metadata": {},
   "source": [
    "# Importing data"
   ]
  },
  {
   "cell_type": "markdown",
   "id": "c305a33b",
   "metadata": {},
   "source": [
    "## DYAMOND files"
   ]
  },
  {
   "cell_type": "code",
   "execution_count": null,
   "id": "220f28ae",
   "metadata": {},
   "outputs": [],
   "source": []
  },
  {
   "cell_type": "markdown",
   "id": "ba773695",
   "metadata": {},
   "source": [
    "## CACATOES - sur spirit, spiritx"
   ]
  },
  {
   "cell_type": "markdown",
   "id": "f4ac2ba0",
   "metadata": {},
   "source": [
    "Les 40j de Daymond sont ici:  /data/fiolleau/DYAMOND/CACATOES/"
   ]
  },
  {
   "cell_type": "code",
   "execution_count": null,
   "id": "6a14c52c",
   "metadata": {},
   "outputs": [],
   "source": []
  },
  {
   "cell_type": "markdown",
   "id": "ad7118d6",
   "metadata": {},
   "source": [
    "Quant aux Fichiers Cacatoes en netcdf pour RCE-SAM et MESONH, ils sont ici:  /bdd/MT_WORKSPACE/MCS/RCEMIP/CACATOES/res30min/"
   ]
  },
  {
   "cell_type": "code",
   "execution_count": null,
   "id": "caa3b04e",
   "metadata": {},
   "outputs": [],
   "source": []
  },
  {
   "cell_type": "markdown",
   "id": "43f22b66",
   "metadata": {},
   "source": [
    "## TOOCAN"
   ]
  },
  {
   "cell_type": "code",
   "execution_count": null,
   "id": "ebeaa48f",
   "metadata": {},
   "outputs": [],
   "source": []
  },
  {
   "cell_type": "markdown",
   "id": "32f456ca",
   "metadata": {},
   "source": [
    "# Showing maps"
   ]
  },
  {
   "cell_type": "code",
   "execution_count": null,
   "id": "e4103beb",
   "metadata": {},
   "outputs": [],
   "source": []
  },
  {
   "cell_type": "markdown",
   "id": "8b051496",
   "metadata": {},
   "source": [
    "# Visualizing extremes"
   ]
  },
  {
   "cell_type": "code",
   "execution_count": null,
   "id": "1d6c2e9c",
   "metadata": {},
   "outputs": [],
   "source": []
  },
  {
   "cell_type": "code",
   "execution_count": null,
   "id": "660cb7c5",
   "metadata": {},
   "outputs": [],
   "source": []
  },
  {
   "cell_type": "code",
   "execution_count": null,
   "id": "c42cca93",
   "metadata": {},
   "outputs": [],
   "source": []
  }
 ],
 "metadata": {
  "hide_input": false,
  "kernelspec": {
   "display_name": "Python 3",
   "language": "python",
   "name": "python3"
  },
  "language_info": {
   "codemirror_mode": {
    "name": "ipython",
    "version": 3
   },
   "file_extension": ".py",
   "mimetype": "text/x-python",
   "name": "python",
   "nbconvert_exporter": "python",
   "pygments_lexer": "ipython3",
   "version": "3.8.13"
  },
  "toc": {
   "base_numbering": 1,
   "nav_menu": {},
   "number_sections": true,
   "sideBar": true,
   "skip_h1_title": false,
   "title_cell": "Table of Contents",
   "title_sidebar": "Contents",
   "toc_cell": false,
   "toc_position": {},
   "toc_section_display": true,
   "toc_window_display": false
  },
  "varInspector": {
   "cols": {
    "lenName": 16,
    "lenType": 16,
    "lenVar": 40
   },
   "kernels_config": {
    "python": {
     "delete_cmd_postfix": "",
     "delete_cmd_prefix": "del ",
     "library": "var_list.py",
     "varRefreshCmd": "print(var_dic_list())"
    },
    "r": {
     "delete_cmd_postfix": ") ",
     "delete_cmd_prefix": "rm(",
     "library": "var_list.r",
     "varRefreshCmd": "cat(var_dic_list()) "
    }
   },
   "types_to_exclude": [
    "module",
    "function",
    "builtin_function_or_method",
    "instance",
    "_Feature"
   ],
   "window_display": false
  }
 },
 "nbformat": 4,
 "nbformat_minor": 5
}
