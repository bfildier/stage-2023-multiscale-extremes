{
 "cells": [
  {
   "cell_type": "code",
   "execution_count": 1,
   "metadata": {},
   "outputs": [],
   "source": [
    "import sys\n",
    "import os\n",
    "sys.path.insert(0, os.getcwd()+'/src/')\n",
    "sys.path.insert(0, '/home/mcarenso/code/stage-2023-multiscale-extremes/scripts/src/')\n",
    "from myImports import *\n",
    "%matplotlib inline\n",
    "%load_ext autoreload"
   ]
  },
  {
   "cell_type": "code",
   "execution_count": 2,
   "metadata": {},
   "outputs": [],
   "source": [
    "stringSST = \"300\" ##295, 300 or 305\n",
    "n_days = 25\n",
    "chunk_size = {'time' :48, 'x' : 32, 'y' : 32}\n",
    "label_chunk_size = {'time' :48, 'longitude' : 32, 'latitude' : 32}\n",
    "\n",
    "#TOOCAN segmentation masks (les labels des objets MCS, dans la grille originale x,y,t)\n",
    "file_seg='/bdd/MT_WORKSPACE/MCS/RCE/SAM/TOOCAN/TOOCAN_v2022_04/irtb/TOOCAN_2.07_SAM_RCE_large'+stringSST+'_2D_irtb.nc'\n",
    "\n",
    "# TOOCAN objects (list d'objets MCS, leur labels et leur caractéristiques)\n",
    "file_tracking='/bdd/MT_WORKSPACE/MCS/RCE/SAM/TOOCAN/TOOCAN_v2022_04/irtb/FileTracking/TOOCAN-SAM_RCE_large'+stringSST+'_2D_irtb.dat.gz'\n",
    "\n",
    "sam_dir_path = \"/bdd/MT_WORKSPACE/REMY/RCEMIP/SAM/300K/\""
   ]
  },
  {
   "attachments": {},
   "cell_type": "markdown",
   "metadata": {},
   "source": [
    "# Import SAM Distrib, MCS list, and label mask"
   ]
  },
  {
   "cell_type": "code",
   "execution_count": 3,
   "metadata": {},
   "outputs": [
    {
     "name": "stderr",
     "output_type": "stream",
     "text": [
      "distributed.diskutils - INFO - Found stale lock file and directory '/home/mcarenso/dask-worker-space/worker-zpph05b1', purging\n",
      "distributed.diskutils - INFO - Found stale lock file and directory '/home/mcarenso/dask-worker-space/worker-hmgtgmtl', purging\n",
      "distributed.diskutils - INFO - Found stale lock file and directory '/home/mcarenso/dask-worker-space/worker-mfvexs7a', purging\n",
      "distributed.diskutils - INFO - Found stale lock file and directory '/home/mcarenso/dask-worker-space/worker-xiz2y3e1', purging\n"
     ]
    }
   ],
   "source": [
    "# File doesn't exist, create the object\n",
    "# Create a Dask client\n",
    "client = ddistributed.Client()\n",
    "\n",
    "# Open native precip datasets\n",
    "ds1 = xr.open_dataset(sam_dir_path+\"rcemip_large_2048x128x74_3km_12s_\"+stringSST+\"K_64.2Dcom_1.nc\", chunks = chunk_size)\n",
    "ds2 = xr.open_dataset(sam_dir_path+\"rcemip_large_2048x128x74_3km_12s_\"+stringSST+\"K_64.2Dcom_2.nc\", chunks = chunk_size)\n",
    "\n",
    "# Combine datasets\n",
    "ds = xr.concat([ds1, ds2], dim='time')\n",
    "# Rename dimensions\n",
    "ds[\"x\"] = ((ds[\"x\"])/3e3).astype(int)\n",
    "ds[\"y\"] = (ds[\"y\"]/3e3).astype(int) \n",
    "ds[\"time\"] = np.round(((ds[\"time\"]-75)*48)).astype(int)\n",
    "ds = ds.isel(time = slice(0, 48*n_days)) "
   ]
  },
  {
   "cell_type": "code",
   "execution_count": 5,
   "metadata": {},
   "outputs": [],
   "source": [
    "filename = 'dist_SAM_Native_Prec_sizemax_1e7.pkl' # used for import or saving the object\n",
    "path = '/homedata/mcarenso/distrib/'  # my desired directory path\n",
    "\n",
    "# Check if the file exists\n",
    "if os.path.isfile(os.path.join(path, filename)):\n",
    "    # File exists, load the object\n",
    "    with open(os.path.join(path, filename), 'rb') as file:\n",
    "        dist_SAM_Prec = pickle.load(file)\n",
    "else:\n",
    "    dist_SAM_Prec = cs.Distribution(name=\"SAM Precipitation\", bintype = \"invlogQ\", nd = 6, fill_last_decade=True)\n",
    "    dist_SAM_Prec.computeDistribution(sample = ds[\"Prec\"].stack(flat=('time', 'y', 'x')).to_numpy())\n",
    "    dist_SAM_Prec.storeSamplePoints(sample = ds[\"Prec\"].stack(flat=('time', 'y', 'x')).to_numpy(), sizemax = int(1e7))\n",
    "\n",
    "    # Save the object as a file\n",
    "    with open(os.path.join(path, filename), 'wb') as file:\n",
    "        pickle.dump(dist_SAM_Prec, file)\n",
    "\n",
    "size = dist_SAM_Prec.size\n",
    "ds_SAM_shape = (size//(128*2048), 128, 2048)"
   ]
  },
  {
   "cell_type": "code",
   "execution_count": 6,
   "metadata": {},
   "outputs": [],
   "source": [
    "## Import MCS list and prepare label list\n",
    "\n",
    "from load_TOOCAN_DYAMOND_modif_BenAndMax import load_TOOCAN_DYAMOND\n",
    "MCS = load_TOOCAN_DYAMOND(file_tracking)"
   ]
  },
  {
   "cell_type": "code",
   "execution_count": 7,
   "metadata": {},
   "outputs": [],
   "source": [
    "label_mask = xr.open_dataarray(file_seg).isel(time=slice(48*n_days)).chunk(label_chunk_size)\n",
    "\n",
    "## function to retrieve the indexes in MCS by MCS labels, could be put in myFuncs but need label_list from the tracking file\n",
    "MCS_6h = [MCS[i] for i in range(len(MCS)) if MCS[i].duration in [12]] ## TODO : add the symetry if here\n",
    "MCS_6h_labels = [MCS_6h[i].label for i in range(len(MCS_6h))]\n",
    "\n",
    "def idx_by_label(labels, label_list = MCS_6h_labels):\n",
    "    idxs = [label_list.index(label) for label in labels]\n",
    "    return idxs\n",
    "# Put to nan the labels that are not in MCS_6h_labels\n",
    "label_6h_mask = label_mask.where(label_mask.isin(MCS_6h_labels))"
   ]
  },
  {
   "attachments": {},
   "cell_type": "markdown",
   "metadata": {},
   "source": [
    "### What is the percentage of rain that falls from under an MCS ? (depending on bins here)"
   ]
  },
  {
   "cell_type": "code",
   "execution_count": 12,
   "metadata": {},
   "outputs": [],
   "source": [
    "from myFuncs import count_rel_nan\n",
    "\n",
    "path_data = '/homedata/mcarenso/data/'  # my desired directory path\n",
    "filename = 'perc_MCS_over_rain_'+stringSST+'.pkl'\n",
    "\n",
    "# check if perc_MCS_over_rain is already computed and saved in homedata \n",
    "if os.path.isfile(os.path.join(path_data, filename)):\n",
    "    # File exists, load the object\n",
    "    with open(os.path.join(path_data, filename), 'rb') as file:\n",
    "        perc_MCS_over_rain = pickle.load(file)\n",
    "else: ## compute it\n",
    "    perc_MCS_over_rain = []\n",
    "    for i,bin_loc in enumerate(dist_SAM_Prec.bin_locations):\n",
    "        \n",
    "        #print(np.round(dist_SAM_Prec.ranks[i], 4), len(x)) \n",
    "        ## Retrieve array of (x,y,t)s per bins that correspond to native precipitations \n",
    "        idxs_subs = np.unravel_index(bin_loc, ds_SAM_shape)\n",
    "\n",
    "        ## Get the labels of MCS for these (x,y,t)s\n",
    "        labels= label_mask.values[idxs_subs] ## label is nan if there is no MCS over this idx\n",
    "        perc_MCS_over_rain.append(1-count_rel_nan(labels))  \n",
    "    # and save it \n",
    "    with open(os.path.join(path_data, filename), 'wb') as file:\n",
    "        pickle.dump(perc_MCS_over_rain, file)"
   ]
  },
  {
   "cell_type": "code",
   "execution_count": 13,
   "metadata": {},
   "outputs": [
    {
     "name": "stdout",
     "output_type": "stream",
     "text": [
      "check that the curve bounds match\n",
      "x bounds: 0.0 99.9999\n",
      "y bounds: 0.0 4037.3954703996096\n",
      "\n"
     ]
    },
    {
     "data": {
      "image/png": "[encoded data removed]",
      "text/plain": [
       "<Figure size 600x450 with 2 Axes>"
      ]
     },
     "metadata": {},
     "output_type": "display_data"
    }
   ],
   "source": [
    "%matplotlib inline\n",
    "fig,ax = plt.subplots(ncols=1,figsize=(6,4.5))\n",
    "\n",
    "ranks = dist_SAM_Prec.ranks\n",
    "perc = dist_SAM_Prec.percentiles\n",
    "\n",
    "#--- on IL x axis\n",
    "ax_show = ax.twiny()\n",
    "\n",
    "#- set frame\n",
    "setXaxisIL(ax,ranks)\n",
    "\n",
    "#- show data\n",
    "showData(ax_show,ranks,perc, rankmin=0, rankmax = 99.9999)\n",
    "showData(ax_show, ranks, perc*perc_MCS_over_rain, rankmin=0, rankmax = 99.9999)\n",
    "\n",
    "#- labels\n",
    "ax.set_xlabel('Ranks Q (%)')\n",
    "ax.set_ylabel('Percentiles $X^Q$')\n",
    "\n",
    "print('check that the curve bounds match')\n",
    "print('x bounds:',ranks[0],ranks[-1])\n",
    "print('y bounds:',perc[0],perc[-1])\n",
    "print()"
   ]
  },
  {
   "attachments": {},
   "cell_type": "markdown",
   "metadata": {},
   "source": [
    "# Native extremes over their MCS LifeCycle"
   ]
  },
  {
   "attachments": {},
   "cell_type": "markdown",
   "metadata": {},
   "source": [
    "### What is the mean age of MCS per rainfall extremes ? "
   ]
  },
  {
   "cell_type": "code",
   "execution_count": null,
   "metadata": {},
   "outputs": [],
   "source": [
    "import time \n",
    "start_time = time.time()\n",
    "data_per_bin = []\n",
    "for i,bin_loc in enumerate(dist_SAM_Prec.bin_locations):\n",
    "    ## list per iteration to average.\n",
    "    bin_data = []\n",
    "\n",
    "    ## Retrieve coord array of (x,y,t)s per bins. tuple form is usefull for subscritapility and array form is usefull for iterating over.\n",
    "    \n",
    "    coord_subs = np.unravel_index(np.array(bin_loc, dtype = np.intp), ds_SAM_shape) ## 3-uplet of 1D array that represents  time, y and x. access like idxs_subs[2][i] for the x value of the ith index                                               \n",
    "    labels = label_6h_mask.values[coord_subs]            ## Get the labels of MCS for these (x,y,t)s, \n",
    "    labels_no_nan = [x for x in labels if not math.isnan(x)] ## for now remove Nans and don't discriminate MCS that may occurs multiple time.\n",
    "    MCSs = [MCS[idx] for idx in idx_by_label(labels_no_nan)] ## Retrieve MCS from correct idx_by_label and label_list\n",
    "    if len(labels)>0 : print(len(labels_no_nan)/len(labels), \"% of Native precips that were lost for the rank :\", dist_SAM_Prec.ranks[i])\n",
    "\n",
    "    coord_read = np.vstack(coord_subs).T # np.array of coordinates np.array(time, y, x) of the bin\n",
    "    coord_no_nan = [idx for i, idx in enumerate(coord_read) if not math.isnan(labels[i])] ## coord correspond to (x,y,t), used as indexing for original dataset\n",
    "\n",
    "    \n",
    "    for i in range(len(MCSs)):\n",
    "        #bin_ages.append(coord_no_nan[i][0] - MCSs[i].TimeInit)\n",
    "        Age_MCS = coord_no_nan[i][0] - MCSs[i].TimeInit + 2\n",
    "        if Age_MCS <= 0 : print(\"Weird MCS age : \", coord_no_nan[i][0] - MCSs[i].TimeInit + 2, \"has label : \", MCSs[i].label)\n",
    "        bin_data.append((Age_MCS)/MCSs[i].duration)\n",
    "    data_per_bin.append(bin_data)\n",
    "\n",
    "print(\"--- %s seconds for 1st method which iterates over bin ---\" % (time.time() - start_time))"
   ]
  },
  {
   "cell_type": "code",
   "execution_count": null,
   "metadata": {},
   "outputs": [],
   "source": [
    "%matplotlib inline\n",
    "nrows = 1\n",
    "fig, ax = plt.subplots(nrows = 1, ncols=1, figsize= (14, 6))\n",
    "x=dist_SAM_Prec.ranks\n",
    "Age_Over_bins = data_per_bin\n",
    "setXaxisIL(ax, x)\n",
    "ax_show = ax.twiny()\n",
    "ax_show.boxplot(Age_Over_bins)\n",
    "ax_show.set_xticks([])\n",
    "\n",
    "ax.set_xlabel(\"Native Precipitation Ranks\")\n",
    "\n",
    "ax.set_ylabel(\"Relative Age of precipitation under MCS\")\n",
    "plt.legend()\n",
    "plt.title(\"Relative Age of MCS of about 6h duration\")\n",
    "plt.tight_layout()\n",
    "plt.show()"
   ]
  },
  {
   "attachments": {},
   "cell_type": "markdown",
   "metadata": {},
   "source": [
    "## Let's add MCS classification (Roca 2017)"
   ]
  },
  {
   "cell_type": "code",
   "execution_count": null,
   "metadata": {},
   "outputs": [],
   "source": [
    "from myFuncs import calculate_first_derivative, classify_derivative"
   ]
  },
  {
   "cell_type": "code",
   "execution_count": null,
   "metadata": {},
   "outputs": [],
   "source": [
    "print(\"Goodbye world !\")"
   ]
  }
 ],
 "metadata": {
  "kernelspec": {
   "display_name": "Python 3 (ipykernel)",
   "language": "python",
   "name": "python3"
  },
  "language_info": {
   "name": "python",
   "version": "3.8.13"
  }
 },
 "nbformat": 4,
 "nbformat_minor": 2
}
